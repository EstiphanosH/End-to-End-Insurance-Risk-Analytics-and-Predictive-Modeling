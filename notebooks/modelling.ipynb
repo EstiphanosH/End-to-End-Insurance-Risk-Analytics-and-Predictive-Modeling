{
 "cells": [
  {
   "cell_type": "code",
   "execution_count": null,
   "id": "bf26719c",
   "metadata": {
    "vscode": {
     "languageId": "plaintext"
    }
   },
   "outputs": [],
   "source": [
    "import pandas as pd\n",
    "import numpy as np\n",
    "from sklearn.model_selection import train_test_split\n",
    "from sklearn.linear_model import LinearRegression, LogisticRegression\n",
    "from sklearn.ensemble import RandomForestRegressor, RandomForestClassifier\n",
    "from xgboost import XGBRegressor, XGBClassifier\n",
    "from sklearn.metrics import mean_squared_error, r2_score, classification_report, roc_auc_score\n",
    "import shap\n",
    "import matplotlib.pyplot as plt\n",
    "import seaborn as sns\n",
    "shap.initjs()"
   ]
  },
  {
   "cell_type": "code",
   "execution_count": null,
   "id": "97a526c6",
   "metadata": {
    "vscode": {
     "languageId": "plaintext"
    }
   },
   "outputs": [],
   "source": [
    "# Load and prepare data\n",
    "df = pd.read_csv('../data/processed/cleaned.csv')\n",
    "df['HasClaim'] = df['TotalClaims'] > 0\n",
    "df['VehicleAge'] = 2025 - df['RegistrationYear']\n",
    "df = df.dropna(subset=['TotalPremium', 'CalculatedPremiumPerTerm', 'TotalClaims'])\n",
    "features = ['VehicleAge', 'SumInsured']"
   ]
  },
  {
   "cell_type": "code",
   "execution_count": null,
   "id": "44ab74c6",
   "metadata": {
    "vscode": {
     "languageId": "plaintext"
    }
   },
   "outputs": [],
   "source": [
    "# Claim Severity Prediction (Regression)\n",
    "severity_df = df[df['HasClaim']].copy()\n",
    "X_s = severity_df[features]\n",
    "y_s = severity_df['TotalClaims']\n",
    "X_train_s, X_test_s, y_train_s, y_test_s = train_test_split(X_s, y_s, test_size=0.2, random_state=42)\n",
    "model_s = XGBRegressor(random_state=42)\n",
    "model_s.fit(X_train_s, y_train_s)\n",
    "y_pred_s = model_s.predict(X_test_s)\n",
    "rmse = np.sqrt(mean_squared_error(y_test_s, y_pred_s))\n",
    "r2 = r2_score(y_test_s, y_pred_s)\n",
    "print(f\"Claim Severity Model -> RMSE: {rmse:.2f}, R²: {r2:.2f}\")"
   ]
  },
  {
   "cell_type": "code",
   "execution_count": null,
   "id": "7dc70991",
   "metadata": {
    "vscode": {
     "languageId": "plaintext"
    }
   },
   "outputs": [],
   "source": [
    "# Claim Probability Classification\n",
    "X_c = df[features]\n",
    "y_c = df['HasClaim']\n",
    "X_train_c, X_test_c, y_train_c, y_test_c = train_test_split(X_c, y_c, test_size=0.2, random_state=42)\n",
    "model_c = XGBClassifier(use_label_encoder=False, eval_metric='logloss', random_state=42)\n",
    "model_c.fit(X_train_c, y_train_c)\n",
    "y_pred_c = model_c.predict(X_test_c)\n",
    "print(\"Classification Report:\\n\", classification_report(y_test_c, y_pred_c))\n",
    "print(\"ROC AUC:\", roc_auc_score(y_test_c, model_c.predict_proba(X_test_c)[:, 1]))"
   ]
  },
  {
   "cell_type": "code",
   "execution_count": null,
   "id": "ab60a0d7",
   "metadata": {
    "vscode": {
     "languageId": "plaintext"
    }
   },
   "outputs": [],
   "source": [
    "# Risk-Based Premium Optimization\n",
    "prob_claim = model_c.predict_proba(X_test_c)[:, 1]\n",
    "severity_pred = model_s.predict(X_test_c)\n",
    "premium = prob_claim * severity_pred + 1000 + 0.2 * severity_pred\n",
    "df_result = X_test_c.copy()\n",
    "df_result['PredictedPremium'] = premium\n",
    "df_result['ActualPremium'] = df.loc[X_test_c.index, 'CalculatedPremiumPerTerm'].values\n",
    "sns.histplot(df_result[['PredictedPremium', 'ActualPremium']], kde=True)\n",
    "plt.title(\"Predicted vs Actual Premium Distribution\")\n",
    "plt.show()"
   ]
  },
  {
   "cell_type": "code",
   "execution_count": null,
   "id": "8c5fca41",
   "metadata": {
    "vscode": {
     "languageId": "plaintext"
    }
   },
   "outputs": [],
   "source": [
    "# SHAP Interpretation\n",
    "explainer_s = shap.Explainer(model_s, X_test_s)\n",
    "shap_values_s = explainer_s(X_test_s)\n",
    "shap.summary_plot(shap_values_s, X_test_s)\n",
    "\n",
    "explainer_c = shap.Explainer(model_c, X_test_c)\n",
    "shap_values_c = explainer_c(X_test_c)\n",
    "shap.summary_plot(shap_values_c, X_test_c)"
   ]
  }
 ],
 "metadata": {
  "language_info": {
   "name": "python"
  }
 },
 "nbformat": 4,
 "nbformat_minor": 5
}
